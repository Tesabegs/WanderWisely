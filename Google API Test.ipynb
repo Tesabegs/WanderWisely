{
 "cells": [
  {
   "cell_type": "code",
   "execution_count": null,
   "metadata": {},
   "outputs": [],
   "source": [
    "#pip install python-google-places"
   ]
  },
  {
   "cell_type": "code",
   "execution_count": 3,
   "metadata": {},
   "outputs": [
    {
     "name": "stderr",
     "output_type": "stream",
     "text": [
      "/opt/homebrew/lib/python3.11/site-packages/urllib3/connectionpool.py:1095: InsecureRequestWarning: Unverified HTTPS request is being made to host 'maps.googleapis.com'. Adding certificate verification is strongly advised. See: https://urllib3.readthedocs.io/en/latest/advanced-usage.html#tls-warnings\n",
      "  warnings.warn(\n",
      "/opt/homebrew/lib/python3.11/site-packages/urllib3/connectionpool.py:1095: InsecureRequestWarning: Unverified HTTPS request is being made to host 'maps.googleapis.com'. Adding certificate verification is strongly advised. See: https://urllib3.readthedocs.io/en/latest/advanced-usage.html#tls-warnings\n",
      "  warnings.warn(\n",
      "/opt/homebrew/lib/python3.11/site-packages/urllib3/connectionpool.py:1095: InsecureRequestWarning: Unverified HTTPS request is being made to host 'maps.googleapis.com'. Adding certificate verification is strongly advised. See: https://urllib3.readthedocs.io/en/latest/advanced-usage.html#tls-warnings\n",
      "  warnings.warn(\n",
      "/opt/homebrew/lib/python3.11/site-packages/urllib3/connectionpool.py:1095: InsecureRequestWarning: Unverified HTTPS request is being made to host 'maps.googleapis.com'. Adding certificate verification is strongly advised. See: https://urllib3.readthedocs.io/en/latest/advanced-usage.html#tls-warnings\n",
      "  warnings.warn(\n"
     ]
    }
   ],
   "source": [
    "import requests\n",
    "from googleplaces import types\n",
    "\n",
    "YOUR_API_KEY = ' '\n",
    "geocoding_url = 'https://maps.googleapis.com/maps/api/geocode/json'\n",
    "\n",
    "places_url = 'https://maps.googleapis.com/maps/api/place/nearbysearch/json'\n",
    "\n",
    "session = requests.Session()\n",
    "session.verify = False  # Disable SSL certificate verification\n",
    "\n",
    "location = input(\"Enter Location: \")\n",
    "#latitude, longitude = location.split(\",\")\n",
    "radius = input(\"Enter a radius : \")\n",
    "\n",
    "geocoding_params = {\n",
    "    'key': YOUR_API_KEY,\n",
    "    'address': location\n",
    "}\n",
    "\n",
    "geocoding_response = session.get(geocoding_url, params=geocoding_params)\n",
    "geocoding_data = geocoding_response.json()\n",
    "\n",
    "if geocoding_data['status'] == 'OK':\n",
    "    result = geocoding_data['results'][0]\n",
    "    location = result['geometry']['location']\n",
    "    latitude = location['lat']\n",
    "    longitude = location['lng']\n",
    "\n",
    "    places_params = {\n",
    "        'key': YOUR_API_KEY,\n",
    "        'location': f\"{latitude},{longitude}\",\n",
    "        'radius': radius,\n",
    "        'type': types.TYPE_RESTAURANT\n",
    "    }\n",
    "\n",
    "    response = session.get(places_url, params=places_params)\n",
    "    restaurant_data = response.json()\n",
    "    restaurants= [restaurant for restaurant in restaurant_data['results'] if restaurant.get('rating', 0) > 4.5]\n",
    "\n",
    "\n",
    "\n",
    "    places_params['type'] = types.TYPE_LODGING\n",
    "    response = session.get(places_url, params=places_params)\n",
    "    lodging_data = response.json()\n",
    "    lodging= [lodge for lodge in lodging_data['results'] if lodge.get('rating', 0) > 4.5]\n",
    "\n",
    "\n",
    "\n",
    "    places_params['type'] = [types.TYPE_ART_GALLERY, types.TYPE_AQUARIUM,types.TYPE_MUSEUM, types.TYPE_BOWLING_ALLEY, types.TYPE_ZOO, types.TYPE_STADIUM]\n",
    "    response = session.get(places_url, params=places_params)\n",
    "    attraction_data = response.json()\n",
    "    attractions= [attraction for attraction in attraction_data['results'] if attraction.get('rating', 0) > 4.5]\n",
    "else:\n",
    "    print (\"No Location found\")\n"
   ]
  },
  {
   "cell_type": "code",
   "execution_count": 4,
   "metadata": {},
   "outputs": [
    {
     "name": "stdout",
     "output_type": "stream",
     "text": [
      "Restaurants:\n",
      "One Aldwych\n",
      "Covent Garden Hotel\n",
      "Sofitel London St James\n",
      "Simpson's in the Strand\n",
      "Hawksmoor Seven Dials\n",
      "\n",
      "Hotels:\n",
      "Corinthia London\n",
      "The Savoy\n",
      "One Aldwych\n",
      "Covent Garden Hotel\n",
      "The Soho Hotel\n",
      "Sofitel London St James\n",
      "\n",
      "Attractions:\n",
      "The National Gallery\n",
      "National Portrait Gallery\n",
      "Hayward Gallery\n",
      "Daniel Crouch Rare Books\n",
      "Calvert 22 Foundation\n",
      "Thomas Dane Gallery\n",
      "Opera Gallery London\n",
      "John Martin Gallery\n",
      "Willow Gallery - London\n"
     ]
    }
   ],
   "source": [
    "\n",
    "print(\"Restaurants:\")\n",
    "for restaurant in restaurants:\n",
    "    print(restaurant['name'])\n",
    "\n",
    "print(\"\\nHotels:\")\n",
    "for lodge in lodging:\n",
    "    print(lodge['name'])\n",
    "\n",
    "print(\"\\nAttractions:\")\n",
    "#attractions={}\n",
    "\n",
    "for attract in attractions:\n",
    "    #attractions.update(art)\n",
    "    print(attract['name'])\n",
    "\n"
   ]
  }
 ],
 "metadata": {
  "kernelspec": {
   "display_name": "Python 3",
   "language": "python",
   "name": "python3"
  },
  "language_info": {
   "codemirror_mode": {
    "name": "ipython",
    "version": 3
   },
   "file_extension": ".py",
   "mimetype": "text/x-python",
   "name": "python",
   "nbconvert_exporter": "python",
   "pygments_lexer": "ipython3",
   "version": "3.11.3"
  },
  "orig_nbformat": 4
 },
 "nbformat": 4,
 "nbformat_minor": 2
}
