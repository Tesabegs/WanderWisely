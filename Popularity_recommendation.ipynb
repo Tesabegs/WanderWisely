{
 "cells": [
  {
   "cell_type": "code",
   "execution_count": 1,
   "metadata": {},
   "outputs": [],
   "source": [
    "#import pandas as pd\n"
   ]
  },
  {
   "cell_type": "code",
   "execution_count": 2,
   "metadata": {},
   "outputs": [],
   "source": [
    "#Loading the dataset\n",
    "hotels_df = pd.read_csv('wanderwisely/Data/Hotels_in_Canada.csv.csv')\n",
    "\n",
    "hotel_reviews_df = pd.read_csv('/wanderwisely/Data/Hotels_in_Canada_Reviews.csv')\n"
   ]
  },
  {
   "cell_type": "code",
   "execution_count": 3,
   "metadata": {},
   "outputs": [],
   "source": [
    "#Performing data cleaning by handling all missing values\n",
    "# Fill missing values in \"Hotel rating\" with the mean of available ratings\n",
    "mean_rating = hotels_df['hotel_rating'].mean()\n",
    "hotels_df['hotel_rating'].fillna(mean_rating, inplace=True)\n",
    "\n",
    "# Fill missing values in \"User rating\" with the mean of available ratings\n",
    "mean_user_rating = hotel_reviews_df['user_rating'].mean()\n",
    "hotel_reviews_df['user_rating'].fillna(mean_user_rating, inplace=True)\n"
   ]
  },
  {
   "cell_type": "code",
   "execution_count": 4,
   "metadata": {},
   "outputs": [],
   "source": [
    "# Removing duplicates for more accurate result\n",
    "#Remove duplicates from the \"Hotels\" dataset based on \"Hotel ID\"\n",
    "hotels_df.drop_duplicates(subset='id', keep='first', inplace=True)\n",
    "\n",
    "# Remove duplicates from the \"Hotel reviews\" dataset based on all columns\n",
    "hotel_reviews_df.drop_duplicates(keep='first', inplace=True)\n",
    "\n",
    "\n",
    "#Grouping the dataframe by the ID\n",
    "reviews_count = hotel_reviews_df.groupby('id').size().reset_index(name='Review Count')\n",
    "\n",
    "\n",
    "# Group the DataFrame by \"Id\" and calculate the mean of the \"User rating\" for each hotel\n",
    "average_ratings = hotel_reviews_df.groupby('id')['user_rating'].mean()\n",
    "\n",
    "# Convert the result to a DataFrame allowing it to have two columns: 'Id' and 'Average Rating'\n",
    "average_ratings_df = average_ratings.reset_index(name='Average Rating')\n",
    "\n",
    "\n",
    "# Merging§ the popularity metrics DataFrames with the \"Hotels\" DataFrame based on the common \"Id\" column\n",
    "hotels_with_popularity = hotels_df.merge(reviews_count, on='id', how='left')\n",
    "hotels_with_popularity = hotels_with_popularity.merge(average_ratings_df, on='id', how='left')\n",
    "\n",
    "# Sort the DataFrame by 'Review Count' and 'Average Rating' column in descending order to allow the highest-rated hotels will be ranked at the top.\n",
    "sorted_hotels_by_reviews = hotels_with_popularity.sort_values(by='Review Count', ascending=False)\n",
    "sorted_hotels_by_rating = hotels_with_popularity.sort_values(by='Average Rating', ascending=False)\n",
    "\n",
    "# Select the top 30 hotels from the sorted DataFrame, I am using 30 to provide users with a sufficient number of options while still maintaining a manageable list that avoids overwhelming them.\n",
    "top_30_hotels = sorted_hotels_by_rating.head(30)\n",
    "\n",
    "# Display the recommended hotels\n",
    "for index, hotel_row in top_30_hotels.iterrows():\n",
    "    print(f\"{index + 1}. {hotel_row['hotel_name']} - Rating: {hotel_row['hotel_rating']} - Address: {hotel_row['address']}\")\n"
   ]
  }
 ],
 "metadata": {
  "kernelspec": {
   "display_name": "Python 3",
   "language": "python",
   "name": "python3"
  },
  "language_info": {
   "codemirror_mode": {
    "name": "ipython",
    "version": 3
   },
   "file_extension": ".py",
   "mimetype": "text/x-python",
   "name": "python",
   "nbconvert_exporter": "python",
   "pygments_lexer": "ipython3",
   "version": "3.11.3"
  },
  "orig_nbformat": 4
 },
 "nbformat": 4,
 "nbformat_minor": 2
}
