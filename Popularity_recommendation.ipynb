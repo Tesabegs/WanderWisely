{
 "cells": [
  {
   "cell_type": "code",
   "execution_count": 1,
   "metadata": {},
   "outputs": [],
   "source": [
    "#import pandas as pd\n"
   ]
  },
  {
   "cell_type": "code",
   "execution_count": 2,
   "metadata": {},
   "outputs": [],
   "source": [
    "#Loading the dataset\n",
    "hotels_df = pd.read_csv('/Users/tess/Desktop/Hotels_in_Canada.csv')\n",
    "\n",
    "hotel_reviews_df = pd.read_csv('/Users/tess/Desktop/Hotels_in_Canada_Reviews.csv')\n"
   ]
  },
  {
   "cell_type": "code",
   "execution_count": 3,
   "metadata": {},
   "outputs": [],
   "source": [
    "#Performing data cleaning by handling all missing values\n",
    "# Fill missing values in \"Hotel rating\" with the mean of available ratings\n",
    "mean_rating = hotels_df['hotel_rating'].mean()\n",
    "hotels_df['hotel_rating'].fillna(mean_rating, inplace=True)\n",
    "\n",
    "# Fill missing values in \"User rating\" with the mean of available ratings\n",
    "mean_user_rating = hotel_reviews_df['user_rating'].mean()\n",
    "hotel_reviews_df['user_rating'].fillna(mean_user_rating, inplace=True)\n"
   ]
  },
  {
   "cell_type": "code",
   "execution_count": 4,
   "metadata": {},
   "outputs": [],
   "source": [
    "# Removing duplicates for more accurate result\n",
    "#Remove duplicates from the \"Hotels\" dataset based on \"Hotel ID\"\n",
    "hotels_df.drop_duplicates(subset='id', keep='first', inplace=True)\n",
    "\n",
    "# Remove duplicates from the \"Hotel reviews\" dataset based on all columns\n",
    "hotel_reviews_df.drop_duplicates(keep='first', inplace=True)\n"
   ]
  },
  {
   "cell_type": "code",
   "execution_count": 5,
   "metadata": {},
   "outputs": [],
   "source": [
    "\n",
    "#Grouping the dataframe by the ID\n",
    "reviews_count = hotel_reviews_df.groupby('id').size().reset_index(name='Review Count')\n"
   ]
  },
  {
   "cell_type": "code",
   "execution_count": 6,
   "metadata": {},
   "outputs": [],
   "source": [
    "\n",
    "# Group the DataFrame by \"Id\" and calculate the mean of the \"User rating\" for each hotel\n",
    "average_ratings = hotel_reviews_df.groupby('id')['user_rating'].mean()\n",
    "\n",
    "# Convert the result to a DataFrame allowing it to have two columns: 'Id' and 'Average Rating'\n",
    "average_ratings_df = average_ratings.reset_index(name='Average Rating')"
   ]
  },
  {
   "cell_type": "code",
   "execution_count": 7,
   "metadata": {},
   "outputs": [],
   "source": [
    "\n",
    "# Merging§ the popularity metrics DataFrames with the \"Hotels\" DataFrame based on the common \"Id\" column\n",
    "hotels_with_popularity = hotels_df.merge(reviews_count, on='id', how='left')\n",
    "hotels_with_popularity = hotels_with_popularity.merge(average_ratings_df, on='id', how='left')"
   ]
  },
  {
   "cell_type": "code",
   "execution_count": 8,
   "metadata": {},
   "outputs": [],
   "source": [
    "# Sort the DataFrame by 'Review Count' and 'Average Rating' column in descending order to allow the highest-rated hotels will be ranked at the top.\n",
    "sorted_hotels_by_reviews = hotels_with_popularity.sort_values(by='Review Count', ascending=False)\n",
    "sorted_hotels_by_rating = hotels_with_popularity.sort_values(by='Average Rating', ascending=False)\n",
    "\n",
    "# Select the top 30 hotels from the sorted DataFrame, I am using 30 to provide users with a sufficient number of options while still maintaining a manageable list that avoids overwhelming them.\n",
    "top_30_hotels = sorted_hotels_by_rating.head(30)"
   ]
  },
  {
   "cell_type": "code",
   "execution_count": 9,
   "metadata": {},
   "outputs": [
    {
     "name": "stdout",
     "output_type": "stream",
     "text": [
      "2608. Camping Parc Nature Gaspe - Rating: 5.0 - Address: 198 Gaspe Quebec\n",
      "1825. Twisted Timber Guesthouse - Rating: 4.0296 - Address: 9 Alpine Trail Cres Fernie British Columbia\n",
      "3446. Ocean Breeze Bed & Breakfast - Rating: 3.0 - Address: 359 Shore Rd \n",
      "3435. Hillside Landing B&B - Rating: 5.0 - Address: 152 Queen Street Digby Nova Scotia\n",
      "3419. Huckleberry Cottage - Rating: 3.5 - Address: 445 7th Ave E \n",
      "4313. Logging Chain Lodge - Rating: 4.5 - Address: 2840 Highway 60 Dwight Ontario\n",
      "3413. JavaLodge - Rating: 4.5 - Address: 516 3rd Ave W \n",
      "3412. Eagle Close Executive Bed &Breakfast - Rating: 4.0 - Address: 198 Eagle Close \n",
      "4880. Timberlane Lodge - Rating: 5.0 - Address: 4 Timberlane Road Ear Falls Ontario\n",
      "4882. Dans les Draps de Morphee - Rating: 4.0296 - Address: 7 Ritchie St Campbellton New Brunswick\n",
      "4895. Village historique de Val-Jalbert - Hebergement et Camping - Rating: 4.0296 - Address: 9 Chambord Quebec\n",
      "1824. Birch Meadows Lodge B&B - Rating: 5.0 - Address: 4485 3 Hwy S Fernie British Columbia\n",
      "4917. Northern Shores Lodge - Rating: 4.5 - Address: 455 Beach Road Sandspit British Columbia\n",
      "3466. Holman's Heritage Suites - Rating: 5.0 - Address: 286 Fitzroy St \n",
      "1828. Brooks Creek Ranch - Rating: 5.0 - Address: 100 Lladner Creek FSR Fernie British Columbia\n",
      "506. Overlander B & B - Rating: 4.5 - Address: 3775 Overlander Dr Kamloops British Columbia\n",
      "4947. Pine Grove Resort - Rating: 4.5 - Address: 463 Pine Grove Rd Port Loring Ontario\n",
      "1849. Yellow Dog Lodge - Rating: 5.0 - Address: N62 53'28 Yellowknife Northwest Territories\n",
      "3363. Lakeside Village Motel and Campground - Rating: 5.0 - Address: 2416 Talbot Trail Ontario\n",
      "1856. Peterson's Point Lake Lodge - Rating: 5.0 - Address: 65 Rycon Dr Yellowknife Northwest Territories\n",
      "3339. Horne Lake Regional Park Campground - Rating: 3.5 - Address: Horne Lake Caves Rd \n",
      "3274. Casa Java Bed & Breakfast - Rating: 5.0 - Address: 2499 Keitel Dr Peterborough Ontario\n",
      "3273. Stillwater on the Lake - Rating: 5.0 - Address: 1-641 Lakeview Cres Peterborough Ontario\n",
      "3262. Golden Pathways Retreat and B & B - Rating: 5.0 - Address: 3075 Wallace Point Rd Peterborough Ontario\n",
      "4837. Nature's Energy Centre, the - Rating: 5.0 - Address: 9580 Lincoln St Welland Ontario\n",
      "3492. Montgomery Cavendish Cottages - Rating: 4.0296 - Address: 68 Sunset Lane Cavendish Prince Edwar\n",
      "1965. Swallowdale Inn B & B - Rating: 5.0 - Address: 46 Roe Rd Huntsville Ontario\n",
      "3581. Seaway Manor Bed and Breakfast - Rating: 5.0 - Address: 465 Stone St S Gananoque Ontario\n",
      "4743. Newton Cove Resort - Rating: 5.0 - Address: Esperanza Inlet Tahsis British Columbia\n",
      "3624. Villa Panoramique et Jardin - Rating: 4.0296 - Address: 650 Boulevard de Sainte-Adele \n"
     ]
    }
   ],
   "source": [
    "# Display the recommended hotels\n",
    "for index, hotel_row in top_30_hotels.iterrows():\n",
    "    print(f\"{index + 1}. {hotel_row['hotel_name']} - Rating: {hotel_row['hotel_rating']} - Address: {hotel_row['address']}\")\n"
   ]
  }
 ],
 "metadata": {
  "kernelspec": {
   "display_name": "Python 3",
   "language": "python",
   "name": "python3"
  },
  "language_info": {
   "codemirror_mode": {
    "name": "ipython",
    "version": 3
   },
   "file_extension": ".py",
   "mimetype": "text/x-python",
   "name": "python",
   "nbconvert_exporter": "python",
   "pygments_lexer": "ipython3",
   "version": "3.11.3"
  },
  "orig_nbformat": 4
 },
 "nbformat": 4,
 "nbformat_minor": 2
}
