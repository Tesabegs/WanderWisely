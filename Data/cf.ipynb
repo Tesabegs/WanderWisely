{
 "cells": [
  {
   "cell_type": "code",
   "execution_count": 27,
   "metadata": {},
   "outputs": [],
   "source": [
    "import pandas as pd\n",
    "from sklearn.feature_extraction.text import TfidfVectorizer\n",
    "from sklearn.metrics.pairwise import cosine_similarity\n",
    "import pickle\n",
    "import numpy as np"
   ]
  },
  {
   "cell_type": "code",
   "execution_count": 32,
   "metadata": {},
   "outputs": [],
   "source": [
    "data = pd.read_csv('Raw/merged.csv')\n",
    "data.shape\n",
    "np.random.seed(29)\n",
    "index = np.random.randint(low=0, high=len(data), size=5000)"
   ]
  },
  {
   "cell_type": "code",
   "execution_count": 33,
   "metadata": {},
   "outputs": [
    {
     "name": "stderr",
     "output_type": "stream",
     "text": [
      "/var/folders/40/79dr94bx2lb88hvbq6ytc5400000gn/T/ipykernel_91244/1392259079.py:3: SettingWithCopyWarning: \n",
      "A value is trying to be set on a copy of a slice from a DataFrame.\n",
      "Try using .loc[row_indexer,col_indexer] = value instead\n",
      "\n",
      "See the caveats in the documentation: https://pandas.pydata.org/pandas-docs/stable/user_guide/indexing.html#returning-a-view-versus-a-copy\n",
      "  dat['combined_features'] = dat['hotel_experience'] + ' ' + dat['user_experience'] + ' ' + dat['user_review']\n"
     ]
    }
   ],
   "source": [
    "dat = data.iloc[index]\n",
    "# Combine features into a single feature for TF-IDF\n",
    "dat['combined_features'] = dat['hotel_experience'] + ' ' + dat['user_experience'] + ' ' + dat['user_review']\n"
   ]
  },
  {
   "cell_type": "code",
   "execution_count": 36,
   "metadata": {},
   "outputs": [],
   "source": [
    "# Drop rows with missing values in the combined_features column\n",
    "dat = dat.dropna(subset=['combined_features'])"
   ]
  },
  {
   "cell_type": "code",
   "execution_count": 37,
   "metadata": {},
   "outputs": [],
   "source": [
    "#split into training and testing\n",
    "train = dat.iloc[1: len(dat)]\n",
    "test = dat.iloc[0]"
   ]
  },
  {
   "cell_type": "code",
   "execution_count": 38,
   "metadata": {},
   "outputs": [],
   "source": [
    "#cosine similarity task\n",
    "# Initialize and fit the TF-IDF vectorizer, using feature made of words\n",
    "vectorizer = TfidfVectorizer(analyzer='word')\n",
    "tfidf_matrix = vectorizer.fit_transform(train['combined_features'].values)\n",
    "\n",
    "# Calculate cosine similarities for the original dataset\n",
    "cosine_similarities = cosine_similarity(tfidf_matrix)"
   ]
  },
  {
   "cell_type": "code",
   "execution_count": 39,
   "metadata": {},
   "outputs": [],
   "source": [
    "#Save the trained vectorizer for future use\n",
    "with open('vectorizer_test.pkl', 'wb') as vectorizer_file:\n",
    "    pickle.dump(vectorizer, vectorizer_file)"
   ]
  },
  {
   "cell_type": "code",
   "execution_count": 46,
   "metadata": {},
   "outputs": [],
   "source": [
    "# Load the previously trained vectorizer\n",
    "with open('vectorizer_test.pkl', 'rb') as vectorizer_file:\n",
    "    loaded_vectorizer = pickle.load(vectorizer_file)\n",
    "\n",
    "\n",
    "testing_data = 'Lovely place'\n",
    "# Fetch the corresponding hotel_experience and user_experience values\n",
    "new_hotel_experience = 'Excellent'\n",
    "new_user_experience = 'outstanding'\n",
    "\n",
    "# Create the combined feature for the new entry\n",
    "new_entry_combined = f\"{new_hotel_experience} {new_user_experience} {testing_data}\"\n",
    "\n",
    "# Transform new text reviews into TF-IDF vectors using the existing vocabulary\n",
    "new_tfidf_matrix = loaded_vectorizer.transform([testing_data])\n",
    "\n",
    "# Calculate cosine similarities between new and old data\n",
    "cosine_similarities_new = cosine_similarity(new_tfidf_matrix, tfidf_matrix)"
   ]
  },
  {
   "cell_type": "code",
   "execution_count": 47,
   "metadata": {},
   "outputs": [],
   "source": [
    "most_similar_indices = np.argmax(cosine_similarities_new, axis=1)"
   ]
  },
  {
   "cell_type": "code",
   "execution_count": 48,
   "metadata": {},
   "outputs": [
    {
     "name": "stdout",
     "output_type": "stream",
     "text": [
      "New Entry: Lovely place\n",
      "Most Similar Entry: [18 \"L'Hermitage Hotel\" '5' 'Excellent'\n",
      " \"['pool', 'fitness centre with gym / workout room', 'free high speed internet (wifi)', 'bar/lounge', 'room service', 'business centre with internet access', 'concierge', 'conference facilities', 'dry cleaning', 'heated pool', 'hot tub', 'laundry service', 'meeting rooms', 'multilingual staff', 'non-smoking hotel', 'outdoor pool', 'pets allowed ( dog / pet friendly )', 'wheelchair access', 'air conditioning', 'refrigerator in room', 'accessible rooms', 'family rooms', 'kitchenette', 'non-smoking rooms', 'suites']\"\n",
      " '788 Richards Street Vancouver British Columbia' 'Canada' 5 'Outstanding'\n",
      " 'Govinda R'\n",
      " 'Lovely Place Its a lovely place to enjoy with the family, in one of the best areas of Vancouver, close to Library, with the best restaurants around, the BC Place and the rogers arena, the best choice for any sports fan.'\n",
      " 'Nov. 2018' ' November 2018'\n",
      " 'Excellent Outstanding Lovely Place Its a lovely place to enjoy with the family, in one of the best areas of Vancouver, close to Library, with the best restaurants around, the BC Place and the rogers arena, the best choice for any sports fan.']\n",
      "Cosine Similarity: 0.35867368462615856\n"
     ]
    }
   ],
   "source": [
    "#most_similar_indices = np.argmax(cosine_similarities_new, axis=1)\n",
    "\n",
    "# Display the most similar entries from the original dataset for each entry in the new dataset\n",
    "for i, new_entry in enumerate([testing_data]):\n",
    "    most_similar_index = most_similar_indices[i]\n",
    "    most_similar_entry = train.values[most_similar_index]\n",
    "    print(f\"New Entry: {new_entry}\")\n",
    "    print(f\"Most Similar Entry: {most_similar_entry}\")\n",
    "    print(f\"Cosine Similarity: {cosine_similarities_new[i, most_similar_index]}\")\n",
    "    "
   ]
  }
 ],
 "metadata": {
  "kernelspec": {
   "display_name": "Python 3",
   "language": "python",
   "name": "python3"
  },
  "language_info": {
   "codemirror_mode": {
    "name": "ipython",
    "version": 3
   },
   "file_extension": ".py",
   "mimetype": "text/x-python",
   "name": "python",
   "nbconvert_exporter": "python",
   "pygments_lexer": "ipython3",
   "version": "3.11.3"
  },
  "orig_nbformat": 4
 },
 "nbformat": 4,
 "nbformat_minor": 2
}
