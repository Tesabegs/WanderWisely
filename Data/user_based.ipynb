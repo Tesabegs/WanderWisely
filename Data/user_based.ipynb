{
 "cells": [
  {
   "cell_type": "code",
   "execution_count": 1,
   "metadata": {},
   "outputs": [],
   "source": [
    "import pandas as pd\n",
    "from scipy import stats\n",
    "from scipy.sparse import csr_matrix\n",
    "from sklearn.metrics.pairwise import cosine_similarity\n",
    "import numpy as np\n",
    "\n"
   ]
  },
  {
   "cell_type": "code",
   "execution_count": 2,
   "metadata": {},
   "outputs": [],
   "source": [
    "#Loading the dataset\n",
    "hotels_df = pd.read_csv('Raw/Hotels_in_Canada copy.csv')\n",
    "\n",
    "reviews_df = pd.read_csv('Raw/Hotels_in_Canada_Reviews copy.csv')\n"
   ]
  },
  {
   "cell_type": "code",
   "execution_count": 3,
   "metadata": {},
   "outputs": [],
   "source": [
    "# Assuming 'ID' is the common attribute in both datasets\n",
    "merged_df = hotels_df.merge(reviews_df, on='id', how='inner')\n",
    "#print(merged_df.head())"
   ]
  },
  {
   "cell_type": "code",
   "execution_count": 4,
   "metadata": {},
   "outputs": [],
   "source": [
    "# Identify and handle outliers in 'User rating' column using z-score\n",
    "z_scores = stats.zscore(merged_df['user_rating'])\n",
    "# Keep only rows with z-scores within 3 standard deviations\n",
    "merged_df = merged_df[(z_scores < 3)] "
   ]
  },
  {
   "cell_type": "code",
   "execution_count": 5,
   "metadata": {},
   "outputs": [],
   "source": [
    "# Standardize the 'amenities' column by converting all text to lowercase\n",
    "merged_df['amenities'] = merged_df['amenities'].str.lower()\n",
    "\n"
   ]
  },
  {
   "cell_type": "code",
   "execution_count": 6,
   "metadata": {},
   "outputs": [],
   "source": [
    "# Remove duplicates and keep the first occurrence\n",
    "merged_df.drop_duplicates(subset=['user_name', 'id'], keep='first', inplace=True)\n",
    "\n",
    "# Create the User-Item Matrix\n",
    "user_item_matrix = merged_df.pivot(index='user_name', columns='id', values='user_rating')\n",
    "\n",
    "# Handle missing values by filling NaN with 0 (or any other appropriate imputation method)\n",
    "user_item_matrix.fillna(0, inplace=True)\n"
   ]
  },
  {
   "cell_type": "code",
   "execution_count": 7,
   "metadata": {},
   "outputs": [
    {
     "name": "stderr",
     "output_type": "stream",
     "text": [
      "/opt/homebrew/lib/python3.11/site-packages/sklearn/utils/extmath.py:193: RuntimeWarning: invalid value encountered in matmul\n",
      "  ret = a @ b\n"
     ]
    }
   ],
   "source": [
    "\n",
    "# Calculate similarity scores using cosine similarity\n",
    "user_similarity_cosine = pd.DataFrame(cosine_similarity(user_item_matrix), index=user_item_matrix.index, columns=user_item_matrix.index)\n"
   ]
  },
  {
   "cell_type": "code",
   "execution_count": 32,
   "metadata": {},
   "outputs": [],
   "source": [
    "# print(\"user_item_matrix shape:\", user_item_matrix.shape)\n",
    "# print(\"user_item_matrix sample:\")\n",
    "# print(user_item_matrix.head())\n",
    "\n",
    "# print(\"\\nuser_item_sparse shape:\", user_item_sparse.shape)\n",
    "# print(\"user_item_sparse sample:\")\n",
    "# print(user_item_sparse[:5])  # Print the first 5 rows of the sparse matrix\n"
   ]
  },
  {
   "cell_type": "code",
   "execution_count": 8,
   "metadata": {},
   "outputs": [],
   "source": [
    "# Calculate the neighborhood for each user\n",
    "k_neighbors = 5\n",
    "user_neighborhood = {}\n",
    "for user in user_similarity_cosine.index:\n",
    "    # Sort users based on similarity score in descending order\n",
    "    similar_users = user_similarity_cosine.loc[user].sort_values(ascending=False)\n",
    "    \n",
    "    # Select the top k_neighbors users as the neighborhood or users above similarity threshold\n",
    "    if k_neighbors is not None:\n",
    "        neighborhood = similar_users.iloc[1:k_neighbors + 1].index \n",
    "    else:\n",
    "        # Set a similarity threshold (e.g., 0.8) and include users above this threshold\n",
    "        similarity_threshold = 0.5\n",
    "        neighborhood = similar_users[similar_users > similarity_threshold].index\n",
    "    \n",
    "    user_neighborhood[user] = neighborhood"
   ]
  },
  {
   "cell_type": "code",
   "execution_count": 9,
   "metadata": {},
   "outputs": [],
   "source": [
    "# Create a dictionary to store aggregated ratings for each user\n",
    "user_aggregated_ratings = {}\n",
    "\n",
    "# Iterate through each user and their selected neighborhood\n",
    "for user, neighbors in user_neighborhood.items():\n",
    "    # Get the similarity scores for the selected neighbors\n",
    "    similarity_scores = user_similarity_cosine.loc[user, neighbors]\n",
    "    \n",
    "    # Get the ratings of hotels for the selected neighbors\n",
    "    neighbor_ratings = user_item_matrix.loc[neighbors]\n",
    "    \n",
    "    # Calculate the weighted average ratings\n",
    "    if similarity_scores.sum() !=0:\n",
    "        weighted_avg_ratings = (similarity_scores.values.reshape(-1, 1) * neighbor_ratings.values).sum(axis=0) / similarity_scores.sum()\n",
    "    else:\n",
    "         weighted_avg_ratings = neighbor_ratings.sum(axis=0) / len(neighbors)  \n",
    "         \n",
    "        \n",
    "    \n",
    "    # Store the aggregated ratings in the dictionary\n",
    "    user_aggregated_ratings[user] = weighted_avg_ratings\n",
    "\n",
    "# Convert the dictionary to a DataFrame\n",
    "aggregated_ratings_df = pd.DataFrame(user_aggregated_ratings, index=user_item_matrix.columns).T\n",
    "\n"
   ]
  },
  {
   "cell_type": "code",
   "execution_count": 10,
   "metadata": {},
   "outputs": [
    {
     "name": "stdout",
     "output_type": "stream",
     "text": [
      "id\n",
      "1       0.0\n",
      "2       0.0\n",
      "3       0.0\n",
      "4       0.0\n",
      "5       0.0\n",
      "       ... \n",
      "996     0.0\n",
      "997     0.0\n",
      "998     0.0\n",
      "999     0.0\n",
      "1000    0.0\n",
      "Name: -foodie_watch-, Length: 625, dtype: float64\n"
     ]
    }
   ],
   "source": [
    "# Print the aggregated ratings for a sample user\n",
    "sample_user = '-foodie_watch-'  \n",
    "print(aggregated_ratings_df.loc[sample_user])"
   ]
  },
  {
   "cell_type": "code",
   "execution_count": 11,
   "metadata": {},
   "outputs": [],
   "source": [
    "target_user = '-foodie_watch-'\n",
    "target_neighborhood = user_neighborhood[target_user]\n",
    "target_neighborhood_ratings = user_item_matrix.loc[target_neighborhood]\n",
    "\n",
    "\n",
    "\n",
    "# Calculate the weighted average predicted ratings for unrated hotels\n",
    "predicted_ratings = (user_similarity_cosine.loc[target_user, target_neighborhood]@ target_neighborhood_ratings.values) / user_similarity_cosine.loc[target_user, target_neighborhood].sum()\n",
    "\n",
    "# Convert predicted_ratings to a Pandas Series \n",
    "predicted_ratings_series = pd.Series(predicted_ratings, index=target_neighborhood_ratings.columns)\n",
    "\n",
    "# Get the hotels that the target user has already rated\n",
    "rated_hotels = user_item_matrix.loc[target_user].dropna().index\n",
    "\n",
    "# Filter out hotels that the target user has already rated\n",
    "unrated_hotels = [hotel for hotel in predicted_ratings_series.index if hotel not in rated_hotels]\n",
    "\n",
    "# Get the predicted ratings for unrated hotels\n",
    "predicted_ratings_unrated = predicted_ratings_series.loc[unrated_hotels]\n",
    "\n",
    "# Sort the hotels based on predicted ratings to get recommendations\n",
    "top_recommendations = predicted_ratings_unrated.sort_values(ascending=False)\n"
   ]
  },
  {
   "cell_type": "code",
   "execution_count": 12,
   "metadata": {},
   "outputs": [
    {
     "name": "stdout",
     "output_type": "stream",
     "text": [
      "Top-rated hotel recommendations:\n",
      "Series([], dtype: float64)\n",
      "Predicted ratings for unrated hotels:\n",
      "id\n",
      "1       0.0\n",
      "2       0.0\n",
      "3       0.0\n",
      "4       0.0\n",
      "5       0.0\n",
      "       ... \n",
      "996     0.0\n",
      "997     0.0\n",
      "998     0.0\n",
      "999     0.0\n",
      "1000    0.0\n",
      "Length: 625, dtype: float64\n"
     ]
    }
   ],
   "source": [
    "\n",
    "# Print the top-rated hotel recommendations\n",
    "print(\"Top-rated hotel recommendations:\")\n",
    "print(top_recommendations)\n",
    "\n",
    "print(\"Predicted ratings for unrated hotels:\")\n",
    "print(predicted_ratings_series)"
   ]
  }
 ],
 "metadata": {
  "kernelspec": {
   "display_name": "Python 3",
   "language": "python",
   "name": "python3"
  },
  "language_info": {
   "codemirror_mode": {
    "name": "ipython",
    "version": 3
   },
   "file_extension": ".py",
   "mimetype": "text/x-python",
   "name": "python",
   "nbconvert_exporter": "python",
   "pygments_lexer": "ipython3",
   "version": "3.11.3"
  },
  "orig_nbformat": 4
 },
 "nbformat": 4,
 "nbformat_minor": 2
}
