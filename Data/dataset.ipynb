{
 "cells": [
  {
   "cell_type": "code",
   "execution_count": 17,
   "metadata": {},
   "outputs": [],
   "source": [
    "import pandas as pd"
   ]
  },
  {
   "cell_type": "code",
   "execution_count": 18,
   "metadata": {},
   "outputs": [
    {
     "data": {
      "text/plain": [
       "5985"
      ]
     },
     "execution_count": 18,
     "metadata": {},
     "output_type": "execute_result"
    }
   ],
   "source": [
    "#Loading the dataset\n",
    "category = pd.read_csv('Raw/Hotels_in_Canada.csv')\n",
    "\n",
    "reviews = pd.read_csv('Raw/Hotels_in_Canada_Reviews.csv')\n",
    "\n",
    "len(category)\n"
   ]
  },
  {
   "cell_type": "code",
   "execution_count": 12,
   "metadata": {},
   "outputs": [],
   "source": [
    "def processed(category, reviews):\n",
    "\n",
    "    #Performing data cleaning by handling all missing values\n",
    "    # Fill missing values in \"Hotel rating\" with the mean of available ratings\n",
    "    mean_rating = category['hotel_rating'].mean()\n",
    "    category['hotel_rating'].fillna(mean_rating, inplace=True)\n",
    "\n",
    "    # Fill missing values in \"User rating\" with the mean of available ratings\n",
    "    mean_user_rating = reviews['user_rating'].mean()\n",
    "    reviews['user_rating'].fillna(mean_user_rating, inplace=True)\n",
    "\n",
    "    # Removing duplicates for more accurate result\n",
    "    #Remove duplicates from the \"Hotels\" dataset based on \"Hotel ID\"\n",
    "    category.drop_duplicates(subset='id', keep='first', inplace=True)\n",
    "\n",
    "    # Remove duplicates from the \"Hotel reviews\" dataset based on all columns\n",
    "    reviews.drop_duplicates(keep='first', inplace=True)\n",
    "\n",
    "\n",
    "    #Grouping the dataframe by the ID\n",
    "    reviews_count = reviews.groupby('id').size().reset_index(name='Review Count')\n",
    "\n",
    "\n",
    "    # Group the DataFrame by \"Id\" and calculate the mean of the \"User rating\" for each hotel\n",
    "    average_ratings = reviews.groupby('id')['user_rating'].mean()\n",
    "\n",
    "    # Convert the result to a DataFrame allowing it to have two columns: 'Id' and 'Average Rating'\n",
    "    average_ratings_df = average_ratings.reset_index(name='Average Rating')\n",
    "\n",
    "\n",
    "    # Merging the popularity metrics DataFrames with the \"Hotels\" DataFrame based on the common \"Id\" column\n",
    "    hotels_with_popularity = category.merge(reviews_count, on='id', how='left')\n",
    "    hotels_with_popularity = hotels_with_popularity.merge(average_ratings_df, on='id', how='left')\n",
    "\n",
    "    # Sort the DataFrame by 'Review Count' and 'Average Rating' column in descending order to allow the highest-rated hotels will be ranked at the top.\n",
    "    # sorted_hotels_by_reviews = hotels_with_popularity.sort_values(by='Review Count', ascending=False)\n",
    "    sorted_hotels_by_rating = hotels_with_popularity.sort_values(by='Average Rating', ascending=False)\n",
    "\n",
    "    # Select the top 30 hotels from the sorted DataFrame, I am using 30 to provide users with a sufficient number of options while still maintaining a manageable list that avoids overwhelming them.\n",
    "    top_30_hotels = sorted_hotels_by_rating.head(30)\n",
    "    \n",
    "    return top_30_hotels\n"
   ]
  },
  {
   "cell_type": "code",
   "execution_count": 16,
   "metadata": {},
   "outputs": [
    {
     "ename": "NameError",
     "evalue": "name 'top_30_hotels' is not defined",
     "output_type": "error",
     "traceback": [
      "\u001b[0;31m---------------------------------------------------------------------------\u001b[0m",
      "\u001b[0;31mNameError\u001b[0m                                 Traceback (most recent call last)",
      "Cell \u001b[0;32mIn[16], line 1\u001b[0m\n\u001b[0;32m----> 1\u001b[0m top_30_hotels\n",
      "\u001b[0;31mNameError\u001b[0m: name 'top_30_hotels' is not defined"
     ]
    }
   ],
   "source": [
    "top_30_hotels"
   ]
  },
  {
   "cell_type": "code",
   "execution_count": 13,
   "metadata": {},
   "outputs": [
    {
     "data": {
      "text/plain": [
       "30"
      ]
     },
     "execution_count": 13,
     "metadata": {},
     "output_type": "execute_result"
    }
   ],
   "source": [
    "curated_data=processed(category, reviews) \n",
    "\n",
    "filtered_df = curated_data[curated_data['country'] == 'Canada']\n",
    "\n",
    "len(filtered_df[\"id\"])"
   ]
  },
  {
   "cell_type": "code",
   "execution_count": 14,
   "metadata": {},
   "outputs": [],
   "source": [
    "curated_data.head()\n",
    "\n",
    "curated_data.to_csv(\"Curated/category_by_rating.csv\" ,index=False)\n",
    "\n"
   ]
  },
  {
   "cell_type": "code",
   "execution_count": 15,
   "metadata": {},
   "outputs": [
    {
     "data": {
      "text/plain": [
       "30"
      ]
     },
     "execution_count": 15,
     "metadata": {},
     "output_type": "execute_result"
    }
   ],
   "source": [
    "len(curated_data[\"id\"])"
   ]
  }
 ],
 "metadata": {
  "kernelspec": {
   "display_name": "Python 3",
   "language": "python",
   "name": "python3"
  },
  "language_info": {
   "codemirror_mode": {
    "name": "ipython",
    "version": 3
   },
   "file_extension": ".py",
   "mimetype": "text/x-python",
   "name": "python",
   "nbconvert_exporter": "python",
   "pygments_lexer": "ipython3",
   "version": "3.11.3"
  },
  "orig_nbformat": 4
 },
 "nbformat": 4,
 "nbformat_minor": 2
}
