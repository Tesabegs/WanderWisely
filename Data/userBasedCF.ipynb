{
 "cells": [
  {
   "cell_type": "code",
   "execution_count": 1,
   "metadata": {},
   "outputs": [],
   "source": [
    "import pandas as pd\n",
    "from sklearn.feature_extraction.text import TfidfVectorizer\n",
    "from sklearn.metrics.pairwise import cosine_similarity\n",
    "import pickle\n",
    "import numpy as np"
   ]
  },
  {
   "cell_type": "code",
   "execution_count": 2,
   "metadata": {},
   "outputs": [],
   "source": [
    "hotel_data = pd.read_csv('../Data/Raw/Hotels/Hotel.csv')\n",
    "reviews_data = pd.read_csv('../Data/Raw/Hotels/Hotel_Reviews.csv')\n",
    "# Merge the datasets using a common column, e.g., 'hotel_id'\n",
    "merged_data = pd.merge(reviews_data, hotel_data, on='id', how='inner')"
   ]
  },
  {
   "cell_type": "code",
   "execution_count": 3,
   "metadata": {},
   "outputs": [],
   "source": [
    "train = merged_data.iloc[1:]  \n",
    "test = merged_data.iloc[0]"
   ]
  },
  {
   "cell_type": "code",
   "execution_count": 4,
   "metadata": {},
   "outputs": [],
   "source": [
    "#cosine similarity task\n",
    "# Initialize and fit the TF-IDF vectorizer, using feature made of words\n",
    "vectorizer = TfidfVectorizer(analyzer='word')\n",
    "tfidf_matrix = vectorizer.fit_transform(train['user_review'].values)\n",
    "\n",
    "\n",
    "# Calculate cosine similarities for the original dataset\n",
    "cosine_similarities = cosine_similarity(tfidf_matrix)"
   ]
  },
  {
   "cell_type": "code",
   "execution_count": 5,
   "metadata": {},
   "outputs": [],
   "source": [
    "#Save the trained vectorizer for future use\n",
    "with open('vectorizer.pkl', 'wb') as vectorizer_file:\n",
    "    pickle.dump(vectorizer, vectorizer_file)"
   ]
  },
  {
   "cell_type": "code",
   "execution_count": 15,
   "metadata": {},
   "outputs": [],
   "source": [
    "# Load the previously trained vectorizer\n",
    "with open('vectorizer.pkl', 'rb') as vectorizer_file:\n",
    "    loaded_vectorizer = pickle.load(vectorizer_file)\n",
    "\n",
    "\n",
    "\n",
    "testing_data = \"Simply the BEST This was my wife and my second visit in just over a year and simply put its the best. Our hosts Fred and Rowena as usual were cordial and caring, respectful when need be and lively conversationests when invited. The acomidations are spotless and comfortable, a home away from.\"\n",
    "# Transform new text reviews into TF-IDF vectors using the existing vocabulary\n",
    "new_tfidf_matrix = loaded_vectorizer.transform([testing_data])\n",
    "\n",
    "# Calculate cosine similarities between new and old data\n",
    "cosine_similarities_new = cosine_similarity(new_tfidf_matrix, tfidf_matrix)"
   ]
  },
  {
   "cell_type": "code",
   "execution_count": 16,
   "metadata": {},
   "outputs": [],
   "source": [
    "most_similar_indices = np.argsort(cosine_similarities_new, axis=1)[:, -3:]"
   ]
  },
  {
   "cell_type": "code",
   "execution_count": 13,
   "metadata": {},
   "outputs": [
    {
     "data": {
      "text/plain": [
       "array([[ 5523, 27142, 10288]])"
      ]
     },
     "execution_count": 13,
     "metadata": {},
     "output_type": "execute_result"
    }
   ],
   "source": [
    "most_similar_indices"
   ]
  },
  {
   "cell_type": "code",
   "execution_count": 17,
   "metadata": {},
   "outputs": [
    {
     "name": "stdout",
     "output_type": "stream",
     "text": [
      "New Entry: Simply the BEST This was my wife and my second visit in just over a year and simply put its the best. Our hosts Fred and Rowena as usual were cordial and caring, respectful when need be and lively conversationests when invited. The acomidations are spotless and comfortable, a home away from.\n",
      "Most Similar Entry: [[18 5 'jacstar351' 'Simply the Best!!! L.' \"L'Hermitage Hotel\" 5.0\n",
      "  'Excellent'\n",
      "  \"['Pool', 'Fitness Centre with Gym / Workout Room', 'Free High Speed Internet (WiFi)', 'Bar/Lounge', 'Room service', 'Business Centre with Internet Access', 'Concierge', 'Conference Facilities', 'Dry Cleaning', 'Heated pool', 'Hot Tub', 'Laundry Service', 'Meeting rooms', 'Multilingual Staff', 'Non-smoking hotel', 'Outdoor pool', 'Pets Allowed ( Dog / Pet Friendly )', 'Wheelchair Access', 'Air conditioning', 'Refrigerator in room', 'Accessible rooms', 'Family Rooms', 'Kitchenette', 'Non-smoking rooms', 'Suites']\"\n",
      "  '788 Richards Street Vancouver British Columbia' 'Canada' ' ' ' ' ' ']\n",
      " [383 5 'ElBeeVancouver' 'Simply the Best B&B I.'\n",
      "  'Above The Beach Bed & Breakfast' nan nan '[]'\n",
      "  '102 Spruce Pl Penticton British Columbia' 'Canada' ' ' ' ' ' ']\n",
      " [368 5 'Jeanette C'\n",
      "  'Simply the BEST This was my wife and my second visit in just over a year and simply put its the best. Our hosts Fred and Rowena as usual were cordial and caring, respectful when need be and lively conversationests when invited. The acomidations are spotless and comfortable, a home away from.'\n",
      "  \"Rowena's Retreat\" 5.0 'Excellent'\n",
      "  \"['Free parking', 'Free High Speed Internet (WiFi)', 'Breakfast included', 'Airport transportation', 'Non-smoking hotel', 'Public Wifi', 'Air conditioning', 'Non-smoking rooms']\"\n",
      "  '1576 Holden Rd Penticton British Columbia' 'Canada' ' ' ' ' ' ']]\n",
      "Cosine Similarity: [0.36462417 0.36462417 1.        ]\n"
     ]
    }
   ],
   "source": [
    "\n",
    "# Display the most similar entries from the original dataset for each entry in the new dataset\n",
    "for i, new_entry in enumerate([testing_data]):\n",
    "    most_similar_index = most_similar_indices[i]\n",
    "    most_similar_entry = train.values[most_similar_index]\n",
    "    print(f\"New Entry: {new_entry}\")\n",
    "    print(f\"Most Similar Entry: {most_similar_entry}\")\n",
    "    print(f\"Cosine Similarity: {cosine_similarities_new[i, most_similar_index]}\")\n",
    "    "
   ]
  },
  {
   "cell_type": "code",
   "execution_count": null,
   "metadata": {},
   "outputs": [],
   "source": [
    "import pandas as pd\n",
    "from sklearn.feature_extraction.text import TfidfVectorizer\n",
    "from sklearn.metrics.pairwise import cosine_similarity\n",
    "import pickle\n",
    "import numpy as np\n",
    "\n",
    "data = pd.read_csv('Raw/merged.csv')\n",
    "\n",
    "data.shape\n",
    "np.random.seed(29)\n",
    "index = np.random.randint(low=0, high=len(data), size=5000)\n",
    "\n",
    "dat = data.iloc[index]\n",
    "\n",
    "#split into training and testing\n",
    "train = dat.iloc[1: len(dat)]\n",
    "test = dat.iloc[0]\n",
    "\n",
    "#cosine similarity task\n",
    "# Initialize and fit the TF-IDF vectorizer, using feature made of words\n",
    "vectorizer = TfidfVectorizer(analyzer='word')\n",
    "tfidf_matrix = vectorizer.fit_transform(train['user_review'].values)\n",
    "\n",
    "# Calculate cosine similarities for the original dataset\n",
    "cosine_similarities = cosine_similarity(tfidf_matrix)\n",
    "\n",
    "most_similar_indices = np.argmax(cosine_similarities_new, axis=1)\n",
    "\n",
    "#most_similar_indices = np.argmax(cosine_similarities_new, axis=1)\n",
    "\n",
    "# Display the most similar entries from the original dataset for each entry in the new dataset\n",
    "for i, new_entry in enumerate([testing_data]):\n",
    "    most_similar_index = most_similar_indices[i]\n",
    "    most_similar_entry = train.values[most_similar_index]\n",
    "    print(f\"New Entry: {new_entry}\")\n",
    "    print(f\"Most Similar Entry: {most_similar_entry}\")\n",
    "    print(f\"Cosine Similarity: {cosine_similarities_new[i, most_similar_index]}\")\n",
    "    "
   ]
  }
 ],
 "metadata": {
  "kernelspec": {
   "display_name": "Python 3",
   "language": "python",
   "name": "python3"
  },
  "language_info": {
   "codemirror_mode": {
    "name": "ipython",
    "version": 3
   },
   "file_extension": ".py",
   "mimetype": "text/x-python",
   "name": "python",
   "nbconvert_exporter": "python",
   "pygments_lexer": "ipython3",
   "version": "3.11.3"
  },
  "orig_nbformat": 4
 },
 "nbformat": 4,
 "nbformat_minor": 2
}
