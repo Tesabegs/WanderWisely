{
 "cells": [
  {
   "cell_type": "code",
   "execution_count": 78,
   "metadata": {},
   "outputs": [],
   "source": [
    "import pandas as pd\n",
    "from sklearn.feature_extraction.text import TfidfVectorizer\n",
    "from sklearn.metrics.pairwise import cosine_similarity\n",
    "import pickle\n",
    "import numpy as np"
   ]
  },
  {
   "cell_type": "code",
   "execution_count": 79,
   "metadata": {},
   "outputs": [],
   "source": [
    "data = pd.read_csv('Raw/merged.csv')"
   ]
  },
  {
   "cell_type": "code",
   "execution_count": 80,
   "metadata": {},
   "outputs": [],
   "source": [
    "data.shape\n",
    "np.random.seed(29)\n",
    "index = np.random.randint(low=0, high=len(data), size=5000)"
   ]
  },
  {
   "cell_type": "code",
   "execution_count": 81,
   "metadata": {},
   "outputs": [],
   "source": [
    "dat = data.iloc[index]"
   ]
  },
  {
   "cell_type": "code",
   "execution_count": 82,
   "metadata": {},
   "outputs": [],
   "source": [
    "#split into training and testing\n",
    "train = dat.iloc[1: len(dat)]\n",
    "test = dat.iloc[0]"
   ]
  },
  {
   "cell_type": "code",
   "execution_count": 83,
   "metadata": {},
   "outputs": [],
   "source": [
    "#cosine similarity task\n",
    "# Initialize and fit the TF-IDF vectorizer, using feature made of words\n",
    "vectorizer = TfidfVectorizer(analyzer='word')\n",
    "tfidf_matrix = vectorizer.fit_transform(train['user_review'].values)\n",
    "\n",
    "# Calculate cosine similarities for the original dataset\n",
    "cosine_similarities = cosine_similarity(tfidf_matrix)"
   ]
  },
  {
   "cell_type": "code",
   "execution_count": 84,
   "metadata": {},
   "outputs": [],
   "source": [
    "#Save the trained vectorizer for future use\n",
    "with open('vectorizer.pkl', 'wb') as vectorizer_file:\n",
    "    pickle.dump(vectorizer, vectorizer_file)"
   ]
  },
  {
   "cell_type": "code",
   "execution_count": 86,
   "metadata": {},
   "outputs": [],
   "source": [
    "# Load the previously trained vectorizer\n",
    "with open('vectorizer.pkl', 'rb') as vectorizer_file:\n",
    "    loaded_vectorizer = pickle.load(vectorizer_file)\n",
    "\n",
    "\n",
    "\n",
    "testing_data = 'I had a terrible experience'\n",
    "# Transform new text reviews into TF-IDF vectors using the existing vocabulary\n",
    "new_tfidf_matrix = loaded_vectorizer.transform([testing_data])\n",
    "\n",
    "# Calculate cosine similarities between new and old data\n",
    "cosine_similarities_new = cosine_similarity(new_tfidf_matrix, tfidf_matrix)"
   ]
  },
  {
   "cell_type": "code",
   "execution_count": 87,
   "metadata": {},
   "outputs": [],
   "source": [
    "most_similar_indices = np.argmax(cosine_similarities_new, axis=1)"
   ]
  },
  {
   "cell_type": "code",
   "execution_count": 75,
   "metadata": {},
   "outputs": [
    {
     "data": {
      "text/plain": [
       "array([1682])"
      ]
     },
     "execution_count": 75,
     "metadata": {},
     "output_type": "execute_result"
    }
   ],
   "source": [
    "most_similar_indices"
   ]
  },
  {
   "cell_type": "code",
   "execution_count": 88,
   "metadata": {},
   "outputs": [
    {
     "name": "stdout",
     "output_type": "stream",
     "text": [
      "New Entry: I had a terrible experience\n",
      "Most Similar Entry: [356 'Spanish Villa Resort' '3.5' 'Very good'\n",
      " \"['pool', 'free parking', 'free high speed internet (wifi)', 'indoor pool', 'laundry service', 'non-smoking hotel', 'pets allowed ( dog / pet friendly )', 'wheelchair access', 'air conditioning', 'refrigerator in room', 'family rooms', 'kitchenette', 'non-smoking rooms', 'suites']\"\n",
      " '890 Lakeshore Dr W Penticton British Columbia' 'Canada' 2\n",
      " 'Below Average' 'Flandra95'\n",
      " \"Terrible hotel with a great location When we first arrived we loved the location, right across from  the lake, but our suite was terrible. Really old fashion furniture, the sofa bed had the worst mattress and the dishes inside the cupboard were dirty. We had to pay $3.00 to get ice from the ice machine. The', '…\"\n",
      " 'Aug. 2014' ' August 2014']\n",
      "Cosine Similarity: 0.2912550952986136\n"
     ]
    }
   ],
   "source": [
    "#most_similar_indices = np.argmax(cosine_similarities_new, axis=1)\n",
    "\n",
    "# Display the most similar entries from the original dataset for each entry in the new dataset\n",
    "for i, new_entry in enumerate([testing_data]):\n",
    "    most_similar_index = most_similar_indices[i]\n",
    "    most_similar_entry = train.values[most_similar_index]\n",
    "    print(f\"New Entry: {new_entry}\")\n",
    "    print(f\"Most Similar Entry: {most_similar_entry}\")\n",
    "    print(f\"Cosine Similarity: {cosine_similarities_new[i, most_similar_index]}\")\n",
    "    "
   ]
  }
 ],
 "metadata": {
  "kernelspec": {
   "display_name": "Python 3",
   "language": "python",
   "name": "python3"
  },
  "language_info": {
   "codemirror_mode": {
    "name": "ipython",
    "version": 3
   },
   "file_extension": ".py",
   "mimetype": "text/x-python",
   "name": "python",
   "nbconvert_exporter": "python",
   "pygments_lexer": "ipython3",
   "version": "3.11.3"
  },
  "orig_nbformat": 4
 },
 "nbformat": 4,
 "nbformat_minor": 2
}
